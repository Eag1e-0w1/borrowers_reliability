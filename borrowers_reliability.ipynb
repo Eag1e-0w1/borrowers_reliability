{
 "cells": [
  {
   "cell_type": "markdown",
   "id": "72babf0f",
   "metadata": {
    "id": "c81daeeb"
   },
   "source": [
    "# Исследование надежности заемщиков  \n",
    "__Задача:__ На основе статистики о платёжеспособности клиентов исследовать влияет ли семейное положение и количество детей клиента на факт возврата кредита в срок\n",
    "  \n",
    "__План исследования:__  \n",
    "- Знакомство с датасетом  \n",
    "- Предобработка данных  \n",
    "- Исследование данных  \n",
    "- Общий вывод"
   ]
  },
  {
   "cell_type": "markdown",
   "id": "5e17167a",
   "metadata": {
    "id": "744d7639"
   },
   "source": [
    "## Знакомство с датасетом"
   ]
  },
  {
   "cell_type": "code",
   "execution_count": 1,
   "id": "8d1f97d9",
   "metadata": {
    "id": "7bcf75c9"
   },
   "outputs": [],
   "source": [
    "import pandas as pd\n",
    "\n",
    "try:\n",
    "    data = pd.read_csv('/datasets/data.csv')\n",
    "except:\n",
    "    data = pd.read_csv('https://code.s3.yandex.net/datasets/data.csv')"
   ]
  },
  {
   "cell_type": "code",
   "execution_count": 2,
   "id": "23620e1c",
   "metadata": {
    "id": "2a7cab99",
    "outputId": "1a8f3ef2-d323-4ec2-ddf7-89670b5944c4"
   },
   "outputs": [
    {
     "data": {
      "text/html": [
       "<div>\n",
       "<style scoped>\n",
       "    .dataframe tbody tr th:only-of-type {\n",
       "        vertical-align: middle;\n",
       "    }\n",
       "\n",
       "    .dataframe tbody tr th {\n",
       "        vertical-align: top;\n",
       "    }\n",
       "\n",
       "    .dataframe thead th {\n",
       "        text-align: right;\n",
       "    }\n",
       "</style>\n",
       "<table border=\"1\" class=\"dataframe\">\n",
       "  <thead>\n",
       "    <tr style=\"text-align: right;\">\n",
       "      <th></th>\n",
       "      <th>children</th>\n",
       "      <th>days_employed</th>\n",
       "      <th>dob_years</th>\n",
       "      <th>education</th>\n",
       "      <th>education_id</th>\n",
       "      <th>family_status</th>\n",
       "      <th>family_status_id</th>\n",
       "      <th>gender</th>\n",
       "      <th>income_type</th>\n",
       "      <th>debt</th>\n",
       "      <th>total_income</th>\n",
       "      <th>purpose</th>\n",
       "    </tr>\n",
       "  </thead>\n",
       "  <tbody>\n",
       "    <tr>\n",
       "      <th>0</th>\n",
       "      <td>1</td>\n",
       "      <td>-8437.673028</td>\n",
       "      <td>42</td>\n",
       "      <td>высшее</td>\n",
       "      <td>0</td>\n",
       "      <td>женат / замужем</td>\n",
       "      <td>0</td>\n",
       "      <td>F</td>\n",
       "      <td>сотрудник</td>\n",
       "      <td>0</td>\n",
       "      <td>253875.639453</td>\n",
       "      <td>покупка жилья</td>\n",
       "    </tr>\n",
       "    <tr>\n",
       "      <th>1</th>\n",
       "      <td>1</td>\n",
       "      <td>-4024.803754</td>\n",
       "      <td>36</td>\n",
       "      <td>среднее</td>\n",
       "      <td>1</td>\n",
       "      <td>женат / замужем</td>\n",
       "      <td>0</td>\n",
       "      <td>F</td>\n",
       "      <td>сотрудник</td>\n",
       "      <td>0</td>\n",
       "      <td>112080.014102</td>\n",
       "      <td>приобретение автомобиля</td>\n",
       "    </tr>\n",
       "    <tr>\n",
       "      <th>2</th>\n",
       "      <td>0</td>\n",
       "      <td>-5623.422610</td>\n",
       "      <td>33</td>\n",
       "      <td>Среднее</td>\n",
       "      <td>1</td>\n",
       "      <td>женат / замужем</td>\n",
       "      <td>0</td>\n",
       "      <td>M</td>\n",
       "      <td>сотрудник</td>\n",
       "      <td>0</td>\n",
       "      <td>145885.952297</td>\n",
       "      <td>покупка жилья</td>\n",
       "    </tr>\n",
       "    <tr>\n",
       "      <th>3</th>\n",
       "      <td>3</td>\n",
       "      <td>-4124.747207</td>\n",
       "      <td>32</td>\n",
       "      <td>среднее</td>\n",
       "      <td>1</td>\n",
       "      <td>женат / замужем</td>\n",
       "      <td>0</td>\n",
       "      <td>M</td>\n",
       "      <td>сотрудник</td>\n",
       "      <td>0</td>\n",
       "      <td>267628.550329</td>\n",
       "      <td>дополнительное образование</td>\n",
       "    </tr>\n",
       "    <tr>\n",
       "      <th>4</th>\n",
       "      <td>0</td>\n",
       "      <td>340266.072047</td>\n",
       "      <td>53</td>\n",
       "      <td>среднее</td>\n",
       "      <td>1</td>\n",
       "      <td>гражданский брак</td>\n",
       "      <td>1</td>\n",
       "      <td>F</td>\n",
       "      <td>пенсионер</td>\n",
       "      <td>0</td>\n",
       "      <td>158616.077870</td>\n",
       "      <td>сыграть свадьбу</td>\n",
       "    </tr>\n",
       "    <tr>\n",
       "      <th>5</th>\n",
       "      <td>0</td>\n",
       "      <td>-926.185831</td>\n",
       "      <td>27</td>\n",
       "      <td>высшее</td>\n",
       "      <td>0</td>\n",
       "      <td>гражданский брак</td>\n",
       "      <td>1</td>\n",
       "      <td>M</td>\n",
       "      <td>компаньон</td>\n",
       "      <td>0</td>\n",
       "      <td>255763.565419</td>\n",
       "      <td>покупка жилья</td>\n",
       "    </tr>\n",
       "    <tr>\n",
       "      <th>6</th>\n",
       "      <td>0</td>\n",
       "      <td>-2879.202052</td>\n",
       "      <td>43</td>\n",
       "      <td>высшее</td>\n",
       "      <td>0</td>\n",
       "      <td>женат / замужем</td>\n",
       "      <td>0</td>\n",
       "      <td>F</td>\n",
       "      <td>компаньон</td>\n",
       "      <td>0</td>\n",
       "      <td>240525.971920</td>\n",
       "      <td>операции с жильем</td>\n",
       "    </tr>\n",
       "    <tr>\n",
       "      <th>7</th>\n",
       "      <td>0</td>\n",
       "      <td>-152.779569</td>\n",
       "      <td>50</td>\n",
       "      <td>СРЕДНЕЕ</td>\n",
       "      <td>1</td>\n",
       "      <td>женат / замужем</td>\n",
       "      <td>0</td>\n",
       "      <td>M</td>\n",
       "      <td>сотрудник</td>\n",
       "      <td>0</td>\n",
       "      <td>135823.934197</td>\n",
       "      <td>образование</td>\n",
       "    </tr>\n",
       "    <tr>\n",
       "      <th>8</th>\n",
       "      <td>2</td>\n",
       "      <td>-6929.865299</td>\n",
       "      <td>35</td>\n",
       "      <td>ВЫСШЕЕ</td>\n",
       "      <td>0</td>\n",
       "      <td>гражданский брак</td>\n",
       "      <td>1</td>\n",
       "      <td>F</td>\n",
       "      <td>сотрудник</td>\n",
       "      <td>0</td>\n",
       "      <td>95856.832424</td>\n",
       "      <td>на проведение свадьбы</td>\n",
       "    </tr>\n",
       "    <tr>\n",
       "      <th>9</th>\n",
       "      <td>0</td>\n",
       "      <td>-2188.756445</td>\n",
       "      <td>41</td>\n",
       "      <td>среднее</td>\n",
       "      <td>1</td>\n",
       "      <td>женат / замужем</td>\n",
       "      <td>0</td>\n",
       "      <td>M</td>\n",
       "      <td>сотрудник</td>\n",
       "      <td>0</td>\n",
       "      <td>144425.938277</td>\n",
       "      <td>покупка жилья для семьи</td>\n",
       "    </tr>\n",
       "    <tr>\n",
       "      <th>10</th>\n",
       "      <td>2</td>\n",
       "      <td>-4171.483647</td>\n",
       "      <td>36</td>\n",
       "      <td>высшее</td>\n",
       "      <td>0</td>\n",
       "      <td>женат / замужем</td>\n",
       "      <td>0</td>\n",
       "      <td>M</td>\n",
       "      <td>компаньон</td>\n",
       "      <td>0</td>\n",
       "      <td>113943.491460</td>\n",
       "      <td>покупка недвижимости</td>\n",
       "    </tr>\n",
       "    <tr>\n",
       "      <th>11</th>\n",
       "      <td>0</td>\n",
       "      <td>-792.701887</td>\n",
       "      <td>40</td>\n",
       "      <td>среднее</td>\n",
       "      <td>1</td>\n",
       "      <td>женат / замужем</td>\n",
       "      <td>0</td>\n",
       "      <td>F</td>\n",
       "      <td>сотрудник</td>\n",
       "      <td>0</td>\n",
       "      <td>77069.234271</td>\n",
       "      <td>покупка коммерческой недвижимости</td>\n",
       "    </tr>\n",
       "    <tr>\n",
       "      <th>12</th>\n",
       "      <td>0</td>\n",
       "      <td>NaN</td>\n",
       "      <td>65</td>\n",
       "      <td>среднее</td>\n",
       "      <td>1</td>\n",
       "      <td>гражданский брак</td>\n",
       "      <td>1</td>\n",
       "      <td>M</td>\n",
       "      <td>пенсионер</td>\n",
       "      <td>0</td>\n",
       "      <td>NaN</td>\n",
       "      <td>сыграть свадьбу</td>\n",
       "    </tr>\n",
       "    <tr>\n",
       "      <th>13</th>\n",
       "      <td>0</td>\n",
       "      <td>-1846.641941</td>\n",
       "      <td>54</td>\n",
       "      <td>неоконченное высшее</td>\n",
       "      <td>2</td>\n",
       "      <td>женат / замужем</td>\n",
       "      <td>0</td>\n",
       "      <td>F</td>\n",
       "      <td>сотрудник</td>\n",
       "      <td>0</td>\n",
       "      <td>130458.228857</td>\n",
       "      <td>приобретение автомобиля</td>\n",
       "    </tr>\n",
       "    <tr>\n",
       "      <th>14</th>\n",
       "      <td>0</td>\n",
       "      <td>-1844.956182</td>\n",
       "      <td>56</td>\n",
       "      <td>высшее</td>\n",
       "      <td>0</td>\n",
       "      <td>гражданский брак</td>\n",
       "      <td>1</td>\n",
       "      <td>F</td>\n",
       "      <td>компаньон</td>\n",
       "      <td>1</td>\n",
       "      <td>165127.911772</td>\n",
       "      <td>покупка жилой недвижимости</td>\n",
       "    </tr>\n",
       "    <tr>\n",
       "      <th>15</th>\n",
       "      <td>1</td>\n",
       "      <td>-972.364419</td>\n",
       "      <td>26</td>\n",
       "      <td>среднее</td>\n",
       "      <td>1</td>\n",
       "      <td>женат / замужем</td>\n",
       "      <td>0</td>\n",
       "      <td>F</td>\n",
       "      <td>сотрудник</td>\n",
       "      <td>0</td>\n",
       "      <td>116820.904450</td>\n",
       "      <td>строительство собственной недвижимости</td>\n",
       "    </tr>\n",
       "    <tr>\n",
       "      <th>16</th>\n",
       "      <td>0</td>\n",
       "      <td>-1719.934226</td>\n",
       "      <td>35</td>\n",
       "      <td>среднее</td>\n",
       "      <td>1</td>\n",
       "      <td>женат / замужем</td>\n",
       "      <td>0</td>\n",
       "      <td>F</td>\n",
       "      <td>сотрудник</td>\n",
       "      <td>0</td>\n",
       "      <td>289202.704229</td>\n",
       "      <td>недвижимость</td>\n",
       "    </tr>\n",
       "    <tr>\n",
       "      <th>17</th>\n",
       "      <td>0</td>\n",
       "      <td>-2369.999720</td>\n",
       "      <td>33</td>\n",
       "      <td>высшее</td>\n",
       "      <td>0</td>\n",
       "      <td>гражданский брак</td>\n",
       "      <td>1</td>\n",
       "      <td>M</td>\n",
       "      <td>сотрудник</td>\n",
       "      <td>0</td>\n",
       "      <td>90410.586745</td>\n",
       "      <td>строительство недвижимости</td>\n",
       "    </tr>\n",
       "    <tr>\n",
       "      <th>18</th>\n",
       "      <td>0</td>\n",
       "      <td>400281.136913</td>\n",
       "      <td>53</td>\n",
       "      <td>среднее</td>\n",
       "      <td>1</td>\n",
       "      <td>вдовец / вдова</td>\n",
       "      <td>2</td>\n",
       "      <td>F</td>\n",
       "      <td>пенсионер</td>\n",
       "      <td>0</td>\n",
       "      <td>56823.777243</td>\n",
       "      <td>на покупку подержанного автомобиля</td>\n",
       "    </tr>\n",
       "    <tr>\n",
       "      <th>19</th>\n",
       "      <td>0</td>\n",
       "      <td>-10038.818549</td>\n",
       "      <td>48</td>\n",
       "      <td>СРЕДНЕЕ</td>\n",
       "      <td>1</td>\n",
       "      <td>в разводе</td>\n",
       "      <td>3</td>\n",
       "      <td>F</td>\n",
       "      <td>сотрудник</td>\n",
       "      <td>0</td>\n",
       "      <td>242831.107982</td>\n",
       "      <td>на покупку своего автомобиля</td>\n",
       "    </tr>\n",
       "  </tbody>\n",
       "</table>\n",
       "</div>"
      ],
      "text/plain": [
       "    children  days_employed  dob_years            education  education_id  \\\n",
       "0          1   -8437.673028         42               высшее             0   \n",
       "1          1   -4024.803754         36              среднее             1   \n",
       "2          0   -5623.422610         33              Среднее             1   \n",
       "3          3   -4124.747207         32              среднее             1   \n",
       "4          0  340266.072047         53              среднее             1   \n",
       "5          0    -926.185831         27               высшее             0   \n",
       "6          0   -2879.202052         43               высшее             0   \n",
       "7          0    -152.779569         50              СРЕДНЕЕ             1   \n",
       "8          2   -6929.865299         35               ВЫСШЕЕ             0   \n",
       "9          0   -2188.756445         41              среднее             1   \n",
       "10         2   -4171.483647         36               высшее             0   \n",
       "11         0    -792.701887         40              среднее             1   \n",
       "12         0            NaN         65              среднее             1   \n",
       "13         0   -1846.641941         54  неоконченное высшее             2   \n",
       "14         0   -1844.956182         56               высшее             0   \n",
       "15         1    -972.364419         26              среднее             1   \n",
       "16         0   -1719.934226         35              среднее             1   \n",
       "17         0   -2369.999720         33               высшее             0   \n",
       "18         0  400281.136913         53              среднее             1   \n",
       "19         0  -10038.818549         48              СРЕДНЕЕ             1   \n",
       "\n",
       "       family_status  family_status_id gender income_type  debt  \\\n",
       "0    женат / замужем                 0      F   сотрудник     0   \n",
       "1    женат / замужем                 0      F   сотрудник     0   \n",
       "2    женат / замужем                 0      M   сотрудник     0   \n",
       "3    женат / замужем                 0      M   сотрудник     0   \n",
       "4   гражданский брак                 1      F   пенсионер     0   \n",
       "5   гражданский брак                 1      M   компаньон     0   \n",
       "6    женат / замужем                 0      F   компаньон     0   \n",
       "7    женат / замужем                 0      M   сотрудник     0   \n",
       "8   гражданский брак                 1      F   сотрудник     0   \n",
       "9    женат / замужем                 0      M   сотрудник     0   \n",
       "10   женат / замужем                 0      M   компаньон     0   \n",
       "11   женат / замужем                 0      F   сотрудник     0   \n",
       "12  гражданский брак                 1      M   пенсионер     0   \n",
       "13   женат / замужем                 0      F   сотрудник     0   \n",
       "14  гражданский брак                 1      F   компаньон     1   \n",
       "15   женат / замужем                 0      F   сотрудник     0   \n",
       "16   женат / замужем                 0      F   сотрудник     0   \n",
       "17  гражданский брак                 1      M   сотрудник     0   \n",
       "18    вдовец / вдова                 2      F   пенсионер     0   \n",
       "19         в разводе                 3      F   сотрудник     0   \n",
       "\n",
       "     total_income                                 purpose  \n",
       "0   253875.639453                           покупка жилья  \n",
       "1   112080.014102                 приобретение автомобиля  \n",
       "2   145885.952297                           покупка жилья  \n",
       "3   267628.550329              дополнительное образование  \n",
       "4   158616.077870                         сыграть свадьбу  \n",
       "5   255763.565419                           покупка жилья  \n",
       "6   240525.971920                       операции с жильем  \n",
       "7   135823.934197                             образование  \n",
       "8    95856.832424                   на проведение свадьбы  \n",
       "9   144425.938277                 покупка жилья для семьи  \n",
       "10  113943.491460                    покупка недвижимости  \n",
       "11   77069.234271       покупка коммерческой недвижимости  \n",
       "12            NaN                         сыграть свадьбу  \n",
       "13  130458.228857                 приобретение автомобиля  \n",
       "14  165127.911772              покупка жилой недвижимости  \n",
       "15  116820.904450  строительство собственной недвижимости  \n",
       "16  289202.704229                            недвижимость  \n",
       "17   90410.586745              строительство недвижимости  \n",
       "18   56823.777243      на покупку подержанного автомобиля  \n",
       "19  242831.107982            на покупку своего автомобиля  "
      ]
     },
     "execution_count": 2,
     "metadata": {},
     "output_type": "execute_result"
    }
   ],
   "source": [
    "data.head(20)"
   ]
  },
  {
   "cell_type": "code",
   "execution_count": 3,
   "id": "6495f9a9",
   "metadata": {
    "id": "2b757bca",
    "outputId": "15376089-8dad-46c9-b520-c05248d43158"
   },
   "outputs": [
    {
     "name": "stdout",
     "output_type": "stream",
     "text": [
      "<class 'pandas.core.frame.DataFrame'>\n",
      "RangeIndex: 21525 entries, 0 to 21524\n",
      "Data columns (total 12 columns):\n",
      " #   Column            Non-Null Count  Dtype  \n",
      "---  ------            --------------  -----  \n",
      " 0   children          21525 non-null  int64  \n",
      " 1   days_employed     19351 non-null  float64\n",
      " 2   dob_years         21525 non-null  int64  \n",
      " 3   education         21525 non-null  object \n",
      " 4   education_id      21525 non-null  int64  \n",
      " 5   family_status     21525 non-null  object \n",
      " 6   family_status_id  21525 non-null  int64  \n",
      " 7   gender            21525 non-null  object \n",
      " 8   income_type       21525 non-null  object \n",
      " 9   debt              21525 non-null  int64  \n",
      " 10  total_income      19351 non-null  float64\n",
      " 11  purpose           21525 non-null  object \n",
      "dtypes: float64(2), int64(5), object(5)\n",
      "memory usage: 2.0+ MB\n"
     ]
    }
   ],
   "source": [
    "data.info()"
   ]
  },
  {
   "cell_type": "markdown",
   "id": "06f87db4",
   "metadata": {
    "deletable": false,
    "editable": false,
    "id": "333ec665"
   },
   "source": [
    "## Предобработка данных"
   ]
  },
  {
   "cell_type": "markdown",
   "id": "fbdeb57c",
   "metadata": {
    "deletable": false,
    "editable": false,
    "id": "02d92d53"
   },
   "source": [
    "### Удаление пропусков"
   ]
  },
  {
   "cell_type": "code",
   "execution_count": 4,
   "id": "e993f77f",
   "metadata": {
    "id": "7f9b2309",
    "outputId": "81f4d817-781c-465c-ed15-91ce4446810d"
   },
   "outputs": [
    {
     "data": {
      "text/plain": [
       "children               0\n",
       "days_employed       2174\n",
       "dob_years              0\n",
       "education              0\n",
       "education_id           0\n",
       "family_status          0\n",
       "family_status_id       0\n",
       "gender                 0\n",
       "income_type            0\n",
       "debt                   0\n",
       "total_income        2174\n",
       "purpose                0\n",
       "dtype: int64"
      ]
     },
     "execution_count": 4,
     "metadata": {},
     "output_type": "execute_result"
    }
   ],
   "source": [
    "data.isna().sum()"
   ]
  },
  {
   "cell_type": "code",
   "execution_count": 5,
   "id": "26fd3045",
   "metadata": {
    "id": "42006a93"
   },
   "outputs": [],
   "source": [
    "for t in data['income_type'].unique():\n",
    "    data.loc[(data['income_type'] == t) & (data['total_income'].isna()), 'total_income'] = \\\n",
    "    data.loc[(data['income_type'] == t), 'total_income'].median()"
   ]
  },
  {
   "cell_type": "markdown",
   "id": "c2065251",
   "metadata": {
    "deletable": false,
    "editable": false,
    "id": "89da5ece"
   },
   "source": [
    "### Обработка аномальных значений"
   ]
  },
  {
   "cell_type": "code",
   "execution_count": 6,
   "id": "ab8d3354",
   "metadata": {
    "id": "f6f055bf"
   },
   "outputs": [],
   "source": [
    "data['days_employed'] = data['days_employed'].abs()"
   ]
  },
  {
   "cell_type": "code",
   "execution_count": 7,
   "id": "15add077",
   "metadata": {
    "id": "85a5faf6",
    "outputId": "801ef80e-522b-4668-f34e-565af7432bcf"
   },
   "outputs": [
    {
     "data": {
      "text/plain": [
       "income_type\n",
       "безработный        366413.652744\n",
       "в декрете            3296.759962\n",
       "госслужащий          2689.368353\n",
       "компаньон            1547.382223\n",
       "пенсионер          365213.306266\n",
       "предприниматель       520.848083\n",
       "сотрудник            1574.202821\n",
       "студент               578.751554\n",
       "Name: days_employed, dtype: float64"
      ]
     },
     "execution_count": 7,
     "metadata": {},
     "output_type": "execute_result"
    }
   ],
   "source": [
    "data.groupby('income_type')['days_employed'].agg('median')"
   ]
  },
  {
   "cell_type": "code",
   "execution_count": 8,
   "id": "df11fe89",
   "metadata": {
    "id": "ef5056eb",
    "outputId": "6975b15c-7f95-4697-d16d-a0c79b657b03"
   },
   "outputs": [
    {
     "data": {
      "text/plain": [
       "array([ 1,  0,  3,  2, -1,  4, 20,  5])"
      ]
     },
     "execution_count": 8,
     "metadata": {},
     "output_type": "execute_result"
    }
   ],
   "source": [
    "data['children'].unique()"
   ]
  },
  {
   "cell_type": "code",
   "execution_count": 9,
   "id": "9a238746",
   "metadata": {
    "id": "3ff9801d"
   },
   "outputs": [],
   "source": [
    "data = data[(data['children'] != -1) & (data['children'] != 20)]"
   ]
  },
  {
   "cell_type": "code",
   "execution_count": 10,
   "id": "723232cc",
   "metadata": {
    "id": "ad4fa8b7",
    "outputId": "b2097101-d49d-44d9-901b-32a65c9463d1"
   },
   "outputs": [
    {
     "data": {
      "text/plain": [
       "array([1, 0, 3, 2, 4, 5])"
      ]
     },
     "execution_count": 10,
     "metadata": {},
     "output_type": "execute_result"
    }
   ],
   "source": [
    "data['children'].unique()"
   ]
  },
  {
   "cell_type": "markdown",
   "id": "2f061a26",
   "metadata": {
    "deletable": false,
    "editable": false,
    "id": "75440b63"
   },
   "source": [
    "### Удаление пропусков (продолжение)"
   ]
  },
  {
   "cell_type": "code",
   "execution_count": 11,
   "id": "cee8b897",
   "metadata": {
    "id": "af6b1a7e"
   },
   "outputs": [],
   "source": [
    "for t in data['income_type'].unique():\n",
    "    data.loc[(data['income_type'] == t) & (data['days_employed'].isna()), 'days_employed'] = \\\n",
    "    data.loc[(data['income_type'] == t), 'days_employed'].median()"
   ]
  },
  {
   "cell_type": "code",
   "execution_count": 12,
   "id": "5c2a5b8d",
   "metadata": {},
   "outputs": [
    {
     "data": {
      "text/plain": [
       "array(['сотрудник', 'пенсионер', 'компаньон', 'госслужащий',\n",
       "       'безработный', 'предприниматель', 'студент', 'в декрете'],\n",
       "      dtype=object)"
      ]
     },
     "execution_count": 12,
     "metadata": {},
     "output_type": "execute_result"
    }
   ],
   "source": [
    "data['income_type'].unique()"
   ]
  },
  {
   "cell_type": "code",
   "execution_count": 15,
   "id": "ebbe416d",
   "metadata": {
    "id": "55f78bc2",
    "outputId": "8da1e4e1-358e-4e87-98c9-f261bce0a7b2"
   },
   "outputs": [
    {
     "data": {
      "text/plain": [
       "children            0\n",
       "days_employed       0\n",
       "dob_years           0\n",
       "education           0\n",
       "education_id        0\n",
       "family_status       0\n",
       "family_status_id    0\n",
       "gender              0\n",
       "income_type         0\n",
       "debt                0\n",
       "total_income        0\n",
       "purpose             0\n",
       "dtype: int64"
      ]
     },
     "execution_count": 15,
     "metadata": {},
     "output_type": "execute_result"
    }
   ],
   "source": [
    "data.isna().sum()"
   ]
  },
  {
   "cell_type": "markdown",
   "id": "e448a3cc",
   "metadata": {
    "deletable": false,
    "editable": false,
    "id": "ddc81e43"
   },
   "source": [
    "### Изменение типов данных"
   ]
  },
  {
   "cell_type": "code",
   "execution_count": 16,
   "id": "79bd5beb",
   "metadata": {
    "id": "920b65ad"
   },
   "outputs": [],
   "source": [
    "data['total_income'] = data['total_income'].astype(int)"
   ]
  },
  {
   "cell_type": "markdown",
   "id": "d7312c36",
   "metadata": {
    "deletable": false,
    "editable": false,
    "id": "80c420ba"
   },
   "source": [
    "### Обработка дубликатов"
   ]
  },
  {
   "cell_type": "code",
   "execution_count": 17,
   "id": "484efccd",
   "metadata": {},
   "outputs": [],
   "source": [
    "data['education'] = data['education'].str.lower()"
   ]
  },
  {
   "cell_type": "code",
   "execution_count": 18,
   "id": "c28b9c94",
   "metadata": {
    "id": "3ee445e4",
    "outputId": "9684deba-1934-42d1-99e1-cda61740f822"
   },
   "outputs": [
    {
     "data": {
      "text/plain": [
       "71"
      ]
     },
     "execution_count": 18,
     "metadata": {},
     "output_type": "execute_result"
    }
   ],
   "source": [
    "data.duplicated().sum()"
   ]
  },
  {
   "cell_type": "code",
   "execution_count": 19,
   "id": "b4603d7b",
   "metadata": {
    "id": "8575fe05"
   },
   "outputs": [],
   "source": [
    "data = data.drop_duplicates()"
   ]
  },
  {
   "cell_type": "markdown",
   "id": "686b9566",
   "metadata": {
    "deletable": false,
    "editable": false,
    "id": "9904cf55"
   },
   "source": [
    "### Категоризация данных"
   ]
  },
  {
   "cell_type": "code",
   "execution_count": 20,
   "id": "e0677958",
   "metadata": {
    "id": "e1771346"
   },
   "outputs": [],
   "source": [
    "def categorize_income(income):\n",
    "    try:\n",
    "        if 0 <= income <= 30000:\n",
    "            return 'E'\n",
    "        elif 30001 <= income <= 50000:\n",
    "            return 'D'\n",
    "        elif 50001 <= income <= 200000:\n",
    "            return 'C'\n",
    "        elif 200001 <= income <= 1000000:\n",
    "            return 'B'\n",
    "        elif income >= 1000001:\n",
    "            return 'A'\n",
    "    except:\n",
    "        pass"
   ]
  },
  {
   "cell_type": "code",
   "execution_count": 21,
   "id": "c817091d",
   "metadata": {
    "id": "d5f3586d"
   },
   "outputs": [],
   "source": [
    "data['total_income_category'] = data['total_income'].apply(categorize_income)"
   ]
  },
  {
   "cell_type": "code",
   "execution_count": 22,
   "id": "0ee55e7c",
   "metadata": {
    "id": "f67ce9b3",
    "outputId": "673c12d9-7d7e-4ae0-9812-c622c89dd244"
   },
   "outputs": [
    {
     "data": {
      "text/plain": [
       "array(['покупка жилья', 'приобретение автомобиля',\n",
       "       'дополнительное образование', 'сыграть свадьбу',\n",
       "       'операции с жильем', 'образование', 'на проведение свадьбы',\n",
       "       'покупка жилья для семьи', 'покупка недвижимости',\n",
       "       'покупка коммерческой недвижимости', 'покупка жилой недвижимости',\n",
       "       'строительство собственной недвижимости', 'недвижимость',\n",
       "       'строительство недвижимости', 'на покупку подержанного автомобиля',\n",
       "       'на покупку своего автомобиля',\n",
       "       'операции с коммерческой недвижимостью',\n",
       "       'строительство жилой недвижимости', 'жилье',\n",
       "       'операции со своей недвижимостью', 'автомобили',\n",
       "       'заняться образованием', 'сделка с подержанным автомобилем',\n",
       "       'получение образования', 'автомобиль', 'свадьба',\n",
       "       'получение дополнительного образования', 'покупка своего жилья',\n",
       "       'операции с недвижимостью', 'получение высшего образования',\n",
       "       'свой автомобиль', 'сделка с автомобилем',\n",
       "       'профильное образование', 'высшее образование',\n",
       "       'покупка жилья для сдачи', 'на покупку автомобиля', 'ремонт жилью',\n",
       "       'заняться высшим образованием'], dtype=object)"
      ]
     },
     "execution_count": 22,
     "metadata": {},
     "output_type": "execute_result"
    }
   ],
   "source": [
    "data['purpose'].unique()"
   ]
  },
  {
   "cell_type": "code",
   "execution_count": 23,
   "id": "19e7f406",
   "metadata": {
    "id": "e149fab4"
   },
   "outputs": [],
   "source": [
    "def categorize_purpose(row):\n",
    "    try:\n",
    "        if 'автом' in row:\n",
    "            return 'операции с автомобилем'\n",
    "        elif 'жил' in row or 'недвиж' in row:\n",
    "            return 'операции с недвижимостью'\n",
    "        elif 'свад' in row:\n",
    "            return 'проведение свадьбы'\n",
    "        elif 'образов' in row:\n",
    "            return 'получение образования'\n",
    "    except:\n",
    "        return 'нет категории'"
   ]
  },
  {
   "cell_type": "code",
   "execution_count": 24,
   "id": "86105cd9",
   "metadata": {
    "id": "bf36e69b"
   },
   "outputs": [],
   "source": [
    "data['purpose_category'] = data['purpose'].apply(categorize_purpose)"
   ]
  },
  {
   "cell_type": "markdown",
   "id": "6c2a895c",
   "metadata": {
    "id": "09b242bf"
   },
   "source": [
    "## Исследование данных"
   ]
  },
  {
   "cell_type": "markdown",
   "id": "f1c4b3d9",
   "metadata": {
    "id": "c5d66278"
   },
   "source": [
    "### Есть ли зависимость между количеством детей и возвратом кредита в срок?"
   ]
  },
  {
   "cell_type": "code",
   "execution_count": 25,
   "id": "c0fb68c6",
   "metadata": {},
   "outputs": [
    {
     "data": {
      "text/html": [
       "<div>\n",
       "<style scoped>\n",
       "    .dataframe tbody tr th:only-of-type {\n",
       "        vertical-align: middle;\n",
       "    }\n",
       "\n",
       "    .dataframe tbody tr th {\n",
       "        vertical-align: top;\n",
       "    }\n",
       "\n",
       "    .dataframe thead th {\n",
       "        text-align: right;\n",
       "    }\n",
       "</style>\n",
       "<table border=\"1\" class=\"dataframe\">\n",
       "  <thead>\n",
       "    <tr style=\"text-align: right;\">\n",
       "      <th></th>\n",
       "      <th>count</th>\n",
       "      <th>avg</th>\n",
       "    </tr>\n",
       "    <tr>\n",
       "      <th>children</th>\n",
       "      <th></th>\n",
       "      <th></th>\n",
       "    </tr>\n",
       "  </thead>\n",
       "  <tbody>\n",
       "    <tr>\n",
       "      <th>0</th>\n",
       "      <td>14091</td>\n",
       "      <td>7.54%</td>\n",
       "    </tr>\n",
       "    <tr>\n",
       "      <th>1</th>\n",
       "      <td>4808</td>\n",
       "      <td>9.23%</td>\n",
       "    </tr>\n",
       "    <tr>\n",
       "      <th>2</th>\n",
       "      <td>2052</td>\n",
       "      <td>9.45%</td>\n",
       "    </tr>\n",
       "    <tr>\n",
       "      <th>3</th>\n",
       "      <td>330</td>\n",
       "      <td>8.18%</td>\n",
       "    </tr>\n",
       "    <tr>\n",
       "      <th>4</th>\n",
       "      <td>41</td>\n",
       "      <td>9.76%</td>\n",
       "    </tr>\n",
       "    <tr>\n",
       "      <th>5</th>\n",
       "      <td>9</td>\n",
       "      <td>0.00%</td>\n",
       "    </tr>\n",
       "  </tbody>\n",
       "</table>\n",
       "</div>"
      ],
      "text/plain": [
       "          count    avg\n",
       "children              \n",
       "0         14091  7.54%\n",
       "1          4808  9.23%\n",
       "2          2052  9.45%\n",
       "3           330  8.18%\n",
       "4            41  9.76%\n",
       "5             9  0.00%"
      ]
     },
     "execution_count": 25,
     "metadata": {},
     "output_type": "execute_result"
    }
   ],
   "source": [
    "children_pivot = data.pivot_table(index=['children'], values='debt', aggfunc=('count', 'sum'))\n",
    "children_pivot['avg'] = (children_pivot['sum'] / children_pivot['count']).apply('{:.2%}'.format)\n",
    "children_pivot = children_pivot[['count', 'avg']]\n",
    "children_pivot"
   ]
  },
  {
   "cell_type": "markdown",
   "id": "605d8fe7",
   "metadata": {
    "id": "2cacfc4a"
   },
   "source": [
    "**Вывод:** \n",
    "- Значимыми выборками являются выборки с 0, 1, 2 детьми, т.к. на них приходится ~98% всех заемщиков.\n",
    "- Из приведенных данных можно сделать вывод, что платежная дисциплина заемщика ухудшается с ростом количества детей"
   ]
  },
  {
   "cell_type": "markdown",
   "id": "e56ea0b9",
   "metadata": {
    "id": "97be82ca"
   },
   "source": [
    "### Есть ли зависимость между семейным положением и возвратом кредита в срок?"
   ]
  },
  {
   "cell_type": "code",
   "execution_count": 45,
   "id": "c66c18a4",
   "metadata": {
    "id": "dc3f7ee8",
    "scrolled": true
   },
   "outputs": [
    {
     "data": {
      "text/html": [
       "<div>\n",
       "<style scoped>\n",
       "    .dataframe tbody tr th:only-of-type {\n",
       "        vertical-align: middle;\n",
       "    }\n",
       "\n",
       "    .dataframe tbody tr th {\n",
       "        vertical-align: top;\n",
       "    }\n",
       "\n",
       "    .dataframe thead th {\n",
       "        text-align: right;\n",
       "    }\n",
       "</style>\n",
       "<table border=\"1\" class=\"dataframe\">\n",
       "  <thead>\n",
       "    <tr style=\"text-align: right;\">\n",
       "      <th></th>\n",
       "      <th>count</th>\n",
       "      <th>avg</th>\n",
       "    </tr>\n",
       "    <tr>\n",
       "      <th>marriage_experience</th>\n",
       "      <th></th>\n",
       "      <th></th>\n",
       "    </tr>\n",
       "  </thead>\n",
       "  <tbody>\n",
       "    <tr>\n",
       "      <th>есть опыт</th>\n",
       "      <td>14401</td>\n",
       "      <td>7.46%</td>\n",
       "    </tr>\n",
       "    <tr>\n",
       "      <th>нет опыта</th>\n",
       "      <td>6930</td>\n",
       "      <td>9.49%</td>\n",
       "    </tr>\n",
       "  </tbody>\n",
       "</table>\n",
       "</div>"
      ],
      "text/plain": [
       "                     count    avg\n",
       "marriage_experience              \n",
       "есть опыт            14401  7.46%\n",
       "нет опыта             6930  9.49%"
      ]
     },
     "execution_count": 45,
     "metadata": {},
     "output_type": "execute_result"
    }
   ],
   "source": [
    "def marriage_experience (status):\n",
    "    if status != 'Не женат / не замужем' and status != 'гражданский брак' :\n",
    "        return 'есть опыт'\n",
    "    return 'нет опыта'\n",
    "data['marriage_experience'] = data['family_status'].apply(marriage_experience)       \n",
    "data.tail(30)\n",
    "        \n",
    "family_pivot = data.pivot_table(index=['marriage_experience'], values='debt', aggfunc=('count', 'sum'))\n",
    "family_pivot['avg'] = (family_pivot['sum'] / family_pivot['count']).apply('{:.2%}'.format)\n",
    "family_pivot = family_pivot[['count', 'avg']]\n",
    "family_pivot"
   ]
  },
  {
   "cell_type": "markdown",
   "id": "9352bc38",
   "metadata": {},
   "source": [
    "**Вывод:** \n",
    "- Данные выборки возможно объединить по опыту официального брака. В результате получим две категории: \"есть опыт\" (входит: \"женат/замужем\", \"вдовец/вдова\", \"в разводе\") и \"нет опыта\" (входят все остальные). \n",
    "- Наблюдая данные две категории, можно предположить, что более дисциплинированные те заемщики, которые имеют опыт официального брака.\n"
   ]
  },
  {
   "cell_type": "markdown",
   "id": "4bb857bc",
   "metadata": {
    "id": "1e8b2fca"
   },
   "source": [
    "### Есть ли зависимость между уровнем дохода и возвратом кредита в срок?"
   ]
  },
  {
   "cell_type": "code",
   "execution_count": 24,
   "id": "b2c07a12",
   "metadata": {
    "id": "cd7e3720",
    "scrolled": true
   },
   "outputs": [
    {
     "data": {
      "text/html": [
       "<div>\n",
       "<style scoped>\n",
       "    .dataframe tbody tr th:only-of-type {\n",
       "        vertical-align: middle;\n",
       "    }\n",
       "\n",
       "    .dataframe tbody tr th {\n",
       "        vertical-align: top;\n",
       "    }\n",
       "\n",
       "    .dataframe thead th {\n",
       "        text-align: right;\n",
       "    }\n",
       "</style>\n",
       "<table border=\"1\" class=\"dataframe\">\n",
       "  <thead>\n",
       "    <tr style=\"text-align: right;\">\n",
       "      <th></th>\n",
       "      <th>count</th>\n",
       "      <th>avg</th>\n",
       "    </tr>\n",
       "    <tr>\n",
       "      <th>total_income_category</th>\n",
       "      <th></th>\n",
       "      <th></th>\n",
       "    </tr>\n",
       "  </thead>\n",
       "  <tbody>\n",
       "    <tr>\n",
       "      <th>C</th>\n",
       "      <td>15921</td>\n",
       "      <td>8.50%</td>\n",
       "    </tr>\n",
       "    <tr>\n",
       "      <th>B</th>\n",
       "      <td>5014</td>\n",
       "      <td>7.06%</td>\n",
       "    </tr>\n",
       "    <tr>\n",
       "      <th>D</th>\n",
       "      <td>349</td>\n",
       "      <td>6.02%</td>\n",
       "    </tr>\n",
       "    <tr>\n",
       "      <th>A</th>\n",
       "      <td>25</td>\n",
       "      <td>8.00%</td>\n",
       "    </tr>\n",
       "    <tr>\n",
       "      <th>E</th>\n",
       "      <td>22</td>\n",
       "      <td>9.09%</td>\n",
       "    </tr>\n",
       "  </tbody>\n",
       "</table>\n",
       "</div>"
      ],
      "text/plain": [
       "                       count    avg\n",
       "total_income_category              \n",
       "C                      15921  8.50%\n",
       "B                       5014  7.06%\n",
       "D                        349  6.02%\n",
       "A                         25  8.00%\n",
       "E                         22  9.09%"
      ]
     },
     "execution_count": 24,
     "metadata": {},
     "output_type": "execute_result"
    }
   ],
   "source": [
    "income_pivot = data.pivot_table(index=['total_income_category'], values='debt', aggfunc=('count', 'sum'))\n",
    "income_pivot['avg'] = (income_pivot['sum'] / income_pivot['count']).apply('{:.2%}'.format)\n",
    "income_pivot = income_pivot[['count','avg']].sort_values(by='count', ascending=False)\n",
    "income_pivot\n",
    "\n"
   ]
  },
  {
   "cell_type": "markdown",
   "id": "5917fe5a",
   "metadata": {},
   "source": [
    "**Вывод:** \n",
    "- Наиболее ценные выборки для анализа - категории С и В.\n",
    "- Из данных следует, что  заемщики с доходами от 200 тыс. до 1 млн. руб. более дисциплинированы,   \n",
    "нежели заемщики с доходами от 50 до 200 тыс. руб."
   ]
  },
  {
   "cell_type": "markdown",
   "id": "d9a08610",
   "metadata": {
    "id": "99ecbd1f"
   },
   "source": [
    "### Как разные цели кредита влияют на его возврат в срок?"
   ]
  },
  {
   "cell_type": "code",
   "execution_count": 25,
   "id": "def97859",
   "metadata": {
    "id": "2b687290"
   },
   "outputs": [
    {
     "data": {
      "text/html": [
       "<div>\n",
       "<style scoped>\n",
       "    .dataframe tbody tr th:only-of-type {\n",
       "        vertical-align: middle;\n",
       "    }\n",
       "\n",
       "    .dataframe tbody tr th {\n",
       "        vertical-align: top;\n",
       "    }\n",
       "\n",
       "    .dataframe thead th {\n",
       "        text-align: right;\n",
       "    }\n",
       "</style>\n",
       "<table border=\"1\" class=\"dataframe\">\n",
       "  <thead>\n",
       "    <tr style=\"text-align: right;\">\n",
       "      <th></th>\n",
       "      <th>count</th>\n",
       "      <th>avg</th>\n",
       "    </tr>\n",
       "    <tr>\n",
       "      <th>purpose_category</th>\n",
       "      <th></th>\n",
       "      <th></th>\n",
       "    </tr>\n",
       "  </thead>\n",
       "  <tbody>\n",
       "    <tr>\n",
       "      <th>операции с недвижимостью</th>\n",
       "      <td>10751</td>\n",
       "      <td>7.26%</td>\n",
       "    </tr>\n",
       "    <tr>\n",
       "      <th>операции с автомобилем</th>\n",
       "      <td>4279</td>\n",
       "      <td>9.35%</td>\n",
       "    </tr>\n",
       "    <tr>\n",
       "      <th>получение образования</th>\n",
       "      <td>3988</td>\n",
       "      <td>9.25%</td>\n",
       "    </tr>\n",
       "    <tr>\n",
       "      <th>проведение свадьбы</th>\n",
       "      <td>2313</td>\n",
       "      <td>7.91%</td>\n",
       "    </tr>\n",
       "  </tbody>\n",
       "</table>\n",
       "</div>"
      ],
      "text/plain": [
       "                          count    avg\n",
       "purpose_category                      \n",
       "операции с недвижимостью  10751  7.26%\n",
       "операции с автомобилем     4279  9.35%\n",
       "получение образования      3988  9.25%\n",
       "проведение свадьбы         2313  7.91%"
      ]
     },
     "execution_count": 25,
     "metadata": {},
     "output_type": "execute_result"
    }
   ],
   "source": [
    "targets_pivot = data.pivot_table(index=['purpose_category'], values='debt', aggfunc=('count', 'sum'))\n",
    "targets_pivot['avg'] = (targets_pivot['sum'] / targets_pivot['count']).apply('{:.2%}'.format)\n",
    "targets_pivot = targets_pivot[['count', 'avg']].sort_values(by='count', ascending=False)\n",
    "targets_pivot"
   ]
  },
  {
   "cell_type": "markdown",
   "id": "d145d11e",
   "metadata": {},
   "source": [
    "**Вывод:** \n",
    "- Можно сделать вывод, что заемщики, берущие кредит на свадьбу и на операции с недвижимостью более дисциплинированы, чем заемщики, берущие кредит на получение образования и на покупку автомобиля."
   ]
  },
  {
   "cell_type": "markdown",
   "id": "2d8389d5",
   "metadata": {
    "id": "09c3ac4c"
   },
   "source": [
    "### Приведите возможные причины появления пропусков в исходных данных."
   ]
  },
  {
   "cell_type": "markdown",
   "id": "976fefbd",
   "metadata": {
    "id": "9da2ceda"
   },
   "source": [
    "*Ответ:*  \n",
    "\n",
    "- Человеческий фактор:  \n",
    "  1. заемщик мог не указать данные о себе\n",
    "  2. сотрудник банка не правильно заполнил анкеты\n",
    "- Технический фактор:  \n",
    "  1. сбои в работе оборудования или при передаче информации  \n",
    "  2. различные форматы, которые используют системы отправляющие и получающие информацию"
   ]
  },
  {
   "cell_type": "markdown",
   "id": "7c6a6760",
   "metadata": {
    "id": "7b0487d6"
   },
   "source": [
    "### Объясните, почему заполнить пропуски медианным значением — лучшее решение для количественных переменных."
   ]
  },
  {
   "cell_type": "markdown",
   "id": "db816345",
   "metadata": {
    "id": "7ecf2b8e"
   },
   "source": [
    "*Ответ:*   \n",
    "В выборке могут находиться экстремальные значения, которые оказывают влияние на среднее значение. Медианное значение делит выборку ровно пополам (справа и слева находится равное количество элементов), игнорируя шум от экстремумов."
   ]
  },
  {
   "cell_type": "markdown",
   "id": "0abbb192",
   "metadata": {
    "id": "6db5255a"
   },
   "source": [
    "## Общий вывод."
   ]
  },
  {
   "cell_type": "markdown",
   "id": "5f95ec70",
   "metadata": {
    "id": "bad65432"
   },
   "source": [
    "  \n",
    "Была получена выгрузка по заемщикам, имеющим историю получения кредита в данном банке. \n",
    "Выгрузка состоит из 21525 строк. Аномальные значения и дубликаты составили менее 1% от общего объема данных.  \n",
    "\n",
    "Исходя из того, что в предоставленной таблице представлен формат \"одним заемщик - одна цель кредита\",  а также наличие менее 1% дубликатов, можно сделать допущение, что клеинты имели/имеют одним кредит в данном банке. \n",
    "\n",
    "Были проанализированы связи между возвратом кредита в срок и:  \n",
    "- **количеством детей**   \n",
    "\n",
    "В этой категории статистически значимыми являются выборки с 0, 1, 2 детьми. Из приведенных данных можно сделать вывод, что платежная дисциплина заемщика ухудшается с ростом количества детей. Разница между платежной дисциплиной заемщиков 0 и 2 детьми составляет почти 2%.  \n",
    "\n",
    "\n",
    "- **семейным положением**  \n",
    "  \n",
    "Более значимые выборки в данной категории: \"женат/замужем\", \"гражданский брак\" и \"не женат/не замужем\". Объединив категории по наличию/отсутствию брачного опыта, можно предположить, более  дисциплинированные заемщики те, которые имеют опыт официального брака. Разница в дисциплине составила 2 %.\n",
    "\n",
    "- **уровнем дохода**    \n",
    "  \n",
    "Наиболее ценные выборки для анализа - категории С и В, как наиболее многочисленные.\n",
    "Из данных следует, что заемщики с более высокими доходами более ответствеено относятся к обязательствам. Разница в дисциплине между ближайшими категориями составляет 1.5%\n",
    "\n",
    "- **целями кредита**  \n",
    "  \n",
    "В данной категории можно утверждать, что заемщики, берущие кредит на свадьбу и на операции с недвижимостью более дисциплинированы, чем заемщики, берущие кредит на получение образования и на покупку автомобиля. Разница в дисциплине составлет 1.5-2%%.\n",
    "\n",
    "Все категории имеют закономерные перекосы, которые можно наблюдать в современном обществе:   \n",
    "- количество детей редко превышает 1-2 ребенка  \n",
    "- наиболее часто встречающаяся категория уровня дохода - средняя  \n",
    "- вдовцов/вдов и разведенных значительно меньше остальных категорий  \n",
    "\n",
    "Учитывая характер перекосов в категориях, для полноценной картины влияния различных факторов на платежную дисциплину заемщика, следует анализировать связи всех приведенных в таблице факторов с платежной дисциплиной, а так же принимать во внимание информацию из БКИ по наличию текущих кредитов, опыте кредитования, суммам и целям прошлых/текущих займов."
   ]
  }
 ],
 "metadata": {
  "ExecuteTimeLog": [
   {
    "duration": 65,
    "start_time": "2023-03-02T12:42:52.344Z"
   },
   {
    "duration": 537,
    "start_time": "2023-03-02T12:48:55.207Z"
   },
   {
    "duration": 30,
    "start_time": "2023-03-02T12:48:55.746Z"
   },
   {
    "duration": 29,
    "start_time": "2023-03-02T12:48:55.778Z"
   },
   {
    "duration": 19,
    "start_time": "2023-03-02T12:48:55.809Z"
   },
   {
    "duration": 43,
    "start_time": "2023-03-02T12:48:55.830Z"
   },
   {
    "duration": 4,
    "start_time": "2023-03-02T12:48:55.875Z"
   },
   {
    "duration": 13,
    "start_time": "2023-03-02T12:48:55.881Z"
   },
   {
    "duration": 4,
    "start_time": "2023-03-02T12:48:55.896Z"
   },
   {
    "duration": 41,
    "start_time": "2023-03-02T12:48:55.902Z"
   },
   {
    "duration": 7,
    "start_time": "2023-03-02T12:48:55.947Z"
   },
   {
    "duration": 39,
    "start_time": "2023-03-02T12:48:55.956Z"
   },
   {
    "duration": 11,
    "start_time": "2023-03-02T12:48:55.996Z"
   },
   {
    "duration": 9,
    "start_time": "2023-03-02T12:48:56.008Z"
   },
   {
    "duration": 31,
    "start_time": "2023-03-02T12:48:56.019Z"
   },
   {
    "duration": 27,
    "start_time": "2023-03-02T12:48:56.053Z"
   },
   {
    "duration": 19,
    "start_time": "2023-03-02T12:48:56.082Z"
   },
   {
    "duration": 4,
    "start_time": "2023-03-02T12:48:56.103Z"
   },
   {
    "duration": 33,
    "start_time": "2023-03-02T12:48:56.109Z"
   },
   {
    "duration": 8,
    "start_time": "2023-03-02T12:48:56.144Z"
   },
   {
    "duration": 21,
    "start_time": "2023-03-02T12:49:05.612Z"
   },
   {
    "duration": 5,
    "start_time": "2023-03-02T12:49:46.382Z"
   },
   {
    "duration": 5,
    "start_time": "2023-03-02T12:50:03.156Z"
   },
   {
    "duration": 30,
    "start_time": "2023-03-02T12:50:09.162Z"
   },
   {
    "duration": 6,
    "start_time": "2023-03-02T12:50:11.611Z"
   },
   {
    "duration": 6,
    "start_time": "2023-03-02T12:50:26.327Z"
   },
   {
    "duration": 23,
    "start_time": "2023-03-02T12:51:56.235Z"
   },
   {
    "duration": 8,
    "start_time": "2023-03-02T12:52:49.856Z"
   },
   {
    "duration": 3,
    "start_time": "2023-03-02T12:52:52.481Z"
   },
   {
    "duration": 4,
    "start_time": "2023-03-02T12:52:54.475Z"
   },
   {
    "duration": 9,
    "start_time": "2023-03-02T12:52:56.871Z"
   },
   {
    "duration": 9,
    "start_time": "2023-03-02T12:53:01.644Z"
   },
   {
    "duration": 24,
    "start_time": "2023-03-02T12:53:04.141Z"
   },
   {
    "duration": 6,
    "start_time": "2023-03-02T12:54:34.977Z"
   },
   {
    "duration": 6,
    "start_time": "2023-03-02T12:55:57.999Z"
   },
   {
    "duration": 83,
    "start_time": "2023-03-02T12:59:15.249Z"
   },
   {
    "duration": 94,
    "start_time": "2023-03-02T12:59:19.905Z"
   },
   {
    "duration": 5,
    "start_time": "2023-03-02T12:59:33.565Z"
   },
   {
    "duration": 4,
    "start_time": "2023-03-02T13:00:38.634Z"
   },
   {
    "duration": 17,
    "start_time": "2023-03-02T13:00:47.111Z"
   },
   {
    "duration": 548,
    "start_time": "2023-03-02T13:00:59.305Z"
   },
   {
    "duration": 4,
    "start_time": "2023-03-02T13:01:33.261Z"
   },
   {
    "duration": 8,
    "start_time": "2023-03-02T13:01:46.614Z"
   },
   {
    "duration": 4,
    "start_time": "2023-03-02T13:03:12.683Z"
   },
   {
    "duration": 12,
    "start_time": "2023-03-02T13:03:25.404Z"
   },
   {
    "duration": 14,
    "start_time": "2023-03-02T13:05:06.603Z"
   },
   {
    "duration": 10,
    "start_time": "2023-03-02T13:05:17.397Z"
   },
   {
    "duration": 79,
    "start_time": "2023-03-02T13:13:56.048Z"
   },
   {
    "duration": 1389,
    "start_time": "2023-03-02T13:14:03.390Z"
   },
   {
    "duration": 1284,
    "start_time": "2023-03-02T13:14:24.105Z"
   },
   {
    "duration": 1249,
    "start_time": "2023-03-02T13:16:09.343Z"
   },
   {
    "duration": 1375,
    "start_time": "2023-03-02T13:16:14.535Z"
   },
   {
    "duration": 22,
    "start_time": "2023-03-02T13:18:30.684Z"
   },
   {
    "duration": 22,
    "start_time": "2023-03-02T13:18:39.269Z"
   },
   {
    "duration": 80,
    "start_time": "2023-03-02T13:21:46.627Z"
   },
   {
    "duration": 1096,
    "start_time": "2023-03-02T13:21:51.971Z"
   },
   {
    "duration": 151,
    "start_time": "2023-03-02T13:22:07.590Z"
   },
   {
    "duration": 136,
    "start_time": "2023-03-02T13:22:58.975Z"
   },
   {
    "duration": 3,
    "start_time": "2023-03-02T13:23:34.323Z"
   },
   {
    "duration": 140,
    "start_time": "2023-03-02T13:24:01.094Z"
   },
   {
    "duration": 6,
    "start_time": "2023-03-02T13:24:35.009Z"
   },
   {
    "duration": 10,
    "start_time": "2023-03-02T13:24:49.924Z"
   },
   {
    "duration": 6,
    "start_time": "2023-03-02T13:25:07.356Z"
   },
   {
    "duration": 131,
    "start_time": "2023-03-02T13:26:01.092Z"
   },
   {
    "duration": 1214,
    "start_time": "2023-03-02T13:33:04.447Z"
   },
   {
    "duration": 1307,
    "start_time": "2023-03-02T13:33:09.563Z"
   },
   {
    "duration": 5,
    "start_time": "2023-03-02T13:33:25.436Z"
   },
   {
    "duration": 47,
    "start_time": "2023-03-02T13:35:53.754Z"
   },
   {
    "duration": 6,
    "start_time": "2023-03-02T13:38:53.526Z"
   },
   {
    "duration": 19,
    "start_time": "2023-03-02T13:40:02.910Z"
   },
   {
    "duration": 21,
    "start_time": "2023-03-02T13:40:08.797Z"
   },
   {
    "duration": 18,
    "start_time": "2023-03-02T13:42:16.618Z"
   },
   {
    "duration": 22,
    "start_time": "2023-03-02T13:42:23.159Z"
   },
   {
    "duration": 18,
    "start_time": "2023-03-02T13:42:36.228Z"
   },
   {
    "duration": 67,
    "start_time": "2023-03-02T13:42:41.958Z"
   },
   {
    "duration": 17,
    "start_time": "2023-03-02T13:42:44.568Z"
   },
   {
    "duration": 14,
    "start_time": "2023-03-02T13:44:32.490Z"
   },
   {
    "duration": 12,
    "start_time": "2023-03-02T13:44:46.207Z"
   },
   {
    "duration": 10,
    "start_time": "2023-03-02T13:44:53.828Z"
   },
   {
    "duration": 0,
    "start_time": "2023-03-02T13:48:00.208Z"
   },
   {
    "duration": 11157,
    "start_time": "2023-03-02T13:48:04.831Z"
   },
   {
    "duration": 25575,
    "start_time": "2023-03-02T13:48:23.511Z"
   },
   {
    "duration": 34591,
    "start_time": "2023-03-02T13:48:57.447Z"
   },
   {
    "duration": 1138,
    "start_time": "2023-03-02T13:49:43.861Z"
   },
   {
    "duration": 7,
    "start_time": "2023-03-02T13:50:03.337Z"
   },
   {
    "duration": 9,
    "start_time": "2023-03-02T13:50:37.803Z"
   },
   {
    "duration": 7,
    "start_time": "2023-03-02T13:50:55.719Z"
   },
   {
    "duration": 5,
    "start_time": "2023-03-02T13:51:29.613Z"
   },
   {
    "duration": 3,
    "start_time": "2023-03-02T13:52:18.960Z"
   },
   {
    "duration": 9,
    "start_time": "2023-03-02T13:52:24.884Z"
   },
   {
    "duration": 10,
    "start_time": "2023-03-02T13:53:08.437Z"
   },
   {
    "duration": 24,
    "start_time": "2023-03-02T13:53:23.643Z"
   },
   {
    "duration": 8,
    "start_time": "2023-03-02T13:57:35.819Z"
   },
   {
    "duration": 48,
    "start_time": "2023-03-02T13:57:45.252Z"
   },
   {
    "duration": 15118,
    "start_time": "2023-03-02T13:57:50.761Z"
   },
   {
    "duration": 137,
    "start_time": "2023-03-02T13:58:23.009Z"
   },
   {
    "duration": 18913,
    "start_time": "2023-03-02T13:58:34.841Z"
   },
   {
    "duration": 24,
    "start_time": "2023-03-02T13:58:56.721Z"
   },
   {
    "duration": 4,
    "start_time": "2023-03-02T14:00:03.396Z"
   },
   {
    "duration": 103,
    "start_time": "2023-03-02T14:00:11.620Z"
   },
   {
    "duration": 1415,
    "start_time": "2023-03-02T14:01:28.351Z"
   },
   {
    "duration": 104,
    "start_time": "2023-03-02T14:01:39.898Z"
   },
   {
    "duration": 9,
    "start_time": "2023-03-02T14:02:30.769Z"
   },
   {
    "duration": 3,
    "start_time": "2023-03-02T14:02:44.426Z"
   },
   {
    "duration": 11,
    "start_time": "2023-03-02T14:02:54.037Z"
   },
   {
    "duration": 5,
    "start_time": "2023-03-02T14:04:22.270Z"
   },
   {
    "duration": 5,
    "start_time": "2023-03-02T14:04:32.327Z"
   },
   {
    "duration": 5,
    "start_time": "2023-03-02T14:05:16.193Z"
   },
   {
    "duration": 13,
    "start_time": "2023-03-02T14:06:45.715Z"
   },
   {
    "duration": 12,
    "start_time": "2023-03-02T14:10:50.062Z"
   },
   {
    "duration": 12,
    "start_time": "2023-03-02T14:11:53.304Z"
   },
   {
    "duration": 16,
    "start_time": "2023-03-02T14:12:30.333Z"
   },
   {
    "duration": 13,
    "start_time": "2023-03-02T14:14:22.368Z"
   },
   {
    "duration": 7,
    "start_time": "2023-03-02T14:14:25.926Z"
   },
   {
    "duration": 11,
    "start_time": "2023-03-02T14:14:35.317Z"
   },
   {
    "duration": 10,
    "start_time": "2023-03-02T14:14:47.425Z"
   },
   {
    "duration": 26892,
    "start_time": "2023-03-02T14:17:56.179Z"
   },
   {
    "duration": 0,
    "start_time": "2023-03-02T14:24:19.105Z"
   },
   {
    "duration": 0,
    "start_time": "2023-03-02T14:25:35.357Z"
   },
   {
    "duration": 25,
    "start_time": "2023-03-02T14:25:36.143Z"
   },
   {
    "duration": 6,
    "start_time": "2023-03-02T14:29:15.145Z"
   },
   {
    "duration": 83,
    "start_time": "2023-03-02T14:29:35.189Z"
   },
   {
    "duration": 36,
    "start_time": "2023-03-02T14:29:41.957Z"
   },
   {
    "duration": 30,
    "start_time": "2023-03-02T14:29:47.712Z"
   },
   {
    "duration": 45,
    "start_time": "2023-03-02T14:30:00.551Z"
   },
   {
    "duration": 43,
    "start_time": "2023-03-02T14:30:07.037Z"
   },
   {
    "duration": 84,
    "start_time": "2023-03-02T14:31:27.384Z"
   },
   {
    "duration": 190,
    "start_time": "2023-03-02T14:31:48.985Z"
   },
   {
    "duration": 23,
    "start_time": "2023-03-02T14:33:57.750Z"
   },
   {
    "duration": 55,
    "start_time": "2023-03-02T14:35:19.330Z"
   },
   {
    "duration": 160,
    "start_time": "2023-03-02T14:35:35.616Z"
   },
   {
    "duration": 132,
    "start_time": "2023-03-02T14:36:59.469Z"
   },
   {
    "duration": 13,
    "start_time": "2023-03-02T14:45:08.607Z"
   },
   {
    "duration": 179,
    "start_time": "2023-03-02T14:45:27.390Z"
   },
   {
    "duration": 14,
    "start_time": "2023-03-02T14:46:21.978Z"
   },
   {
    "duration": 78,
    "start_time": "2023-03-02T14:46:39.123Z"
   },
   {
    "duration": 16,
    "start_time": "2023-03-02T14:46:50.080Z"
   },
   {
    "duration": 33,
    "start_time": "2023-03-02T14:46:59.203Z"
   },
   {
    "duration": 33,
    "start_time": "2023-03-02T14:48:54.409Z"
   },
   {
    "duration": 34,
    "start_time": "2023-03-02T14:49:15.872Z"
   },
   {
    "duration": 30,
    "start_time": "2023-03-02T14:50:14.128Z"
   },
   {
    "duration": 43,
    "start_time": "2023-03-02T14:50:43.220Z"
   },
   {
    "duration": 22,
    "start_time": "2023-03-02T14:50:53.638Z"
   },
   {
    "duration": 24,
    "start_time": "2023-03-02T14:50:58.039Z"
   },
   {
    "duration": 16,
    "start_time": "2023-03-02T14:51:50.187Z"
   },
   {
    "duration": 4,
    "start_time": "2023-03-02T14:52:25.734Z"
   },
   {
    "duration": 13,
    "start_time": "2023-03-02T14:52:32.493Z"
   },
   {
    "duration": 71,
    "start_time": "2023-03-02T14:55:56.586Z"
   },
   {
    "duration": 36,
    "start_time": "2023-03-02T14:56:24.505Z"
   },
   {
    "duration": 167,
    "start_time": "2023-03-02T14:57:39.910Z"
   },
   {
    "duration": 23,
    "start_time": "2023-03-02T14:57:53.955Z"
   },
   {
    "duration": 22,
    "start_time": "2023-03-02T14:58:06.358Z"
   },
   {
    "duration": 34,
    "start_time": "2023-03-02T14:58:15.724Z"
   },
   {
    "duration": 21,
    "start_time": "2023-03-02T14:58:27.269Z"
   },
   {
    "duration": 55,
    "start_time": "2023-03-02T14:58:31.146Z"
   },
   {
    "duration": 44,
    "start_time": "2023-03-02T14:58:52.956Z"
   },
   {
    "duration": 35,
    "start_time": "2023-03-02T14:59:01.022Z"
   },
   {
    "duration": 16,
    "start_time": "2023-03-02T15:00:56.255Z"
   },
   {
    "duration": 14,
    "start_time": "2023-03-02T15:01:24.781Z"
   },
   {
    "duration": 14,
    "start_time": "2023-03-02T15:01:37.906Z"
   },
   {
    "duration": 14,
    "start_time": "2023-03-02T15:02:28.518Z"
   },
   {
    "duration": 22,
    "start_time": "2023-03-02T15:02:35.171Z"
   },
   {
    "duration": 157,
    "start_time": "2023-03-02T15:02:42.644Z"
   },
   {
    "duration": 55,
    "start_time": "2023-03-02T15:02:48.327Z"
   },
   {
    "duration": 47,
    "start_time": "2023-03-02T15:04:25.110Z"
   },
   {
    "duration": 170,
    "start_time": "2023-03-02T15:04:42.532Z"
   },
   {
    "duration": 39,
    "start_time": "2023-03-02T15:05:23.527Z"
   },
   {
    "duration": 106,
    "start_time": "2023-03-02T15:05:33.113Z"
   },
   {
    "duration": 71,
    "start_time": "2023-03-02T15:05:43.627Z"
   },
   {
    "duration": 50,
    "start_time": "2023-03-02T15:06:18.010Z"
   },
   {
    "duration": 61,
    "start_time": "2023-03-02T15:06:28.998Z"
   },
   {
    "duration": 46,
    "start_time": "2023-03-02T15:06:40.978Z"
   },
   {
    "duration": 54,
    "start_time": "2023-03-02T15:06:47.419Z"
   },
   {
    "duration": 17,
    "start_time": "2023-03-02T15:07:47.667Z"
   },
   {
    "duration": 22,
    "start_time": "2023-03-02T15:08:00.783Z"
   },
   {
    "duration": 22,
    "start_time": "2023-03-02T15:08:17.887Z"
   },
   {
    "duration": 24,
    "start_time": "2023-03-02T15:08:42.943Z"
   },
   {
    "duration": 21,
    "start_time": "2023-03-02T15:08:49.482Z"
   },
   {
    "duration": 124,
    "start_time": "2023-03-02T15:10:52.739Z"
   },
   {
    "duration": 20,
    "start_time": "2023-03-02T15:11:15.014Z"
   },
   {
    "duration": 22,
    "start_time": "2023-03-02T15:11:25.260Z"
   },
   {
    "duration": 25,
    "start_time": "2023-03-02T15:12:09.994Z"
   },
   {
    "duration": 30,
    "start_time": "2023-03-02T15:13:18.128Z"
   },
   {
    "duration": 33,
    "start_time": "2023-03-02T15:15:19.535Z"
   },
   {
    "duration": 38,
    "start_time": "2023-03-02T15:17:55.432Z"
   },
   {
    "duration": 46,
    "start_time": "2023-03-02T15:20:05.398Z"
   },
   {
    "duration": 98,
    "start_time": "2023-03-02T15:21:53.368Z"
   },
   {
    "duration": 43,
    "start_time": "2023-03-02T15:22:05.224Z"
   },
   {
    "duration": 3,
    "start_time": "2023-03-02T15:25:28.847Z"
   },
   {
    "duration": 5,
    "start_time": "2023-03-02T15:27:11.294Z"
   },
   {
    "duration": 29,
    "start_time": "2023-03-02T15:27:13.063Z"
   },
   {
    "duration": 4,
    "start_time": "2023-03-02T15:27:32.872Z"
   },
   {
    "duration": 16,
    "start_time": "2023-03-02T15:27:34.211Z"
   },
   {
    "duration": 4,
    "start_time": "2023-03-02T15:27:47.225Z"
   },
   {
    "duration": 17,
    "start_time": "2023-03-02T15:27:48.050Z"
   },
   {
    "duration": 5,
    "start_time": "2023-03-02T15:28:11.388Z"
   },
   {
    "duration": 15,
    "start_time": "2023-03-02T15:28:12.914Z"
   },
   {
    "duration": 11,
    "start_time": "2023-03-02T15:29:06.840Z"
   },
   {
    "duration": 75,
    "start_time": "2023-03-02T15:30:01.373Z"
   },
   {
    "duration": 4,
    "start_time": "2023-03-02T15:30:20.790Z"
   },
   {
    "duration": 10,
    "start_time": "2023-03-02T15:30:26.297Z"
   },
   {
    "duration": 22,
    "start_time": "2023-03-02T15:30:33.498Z"
   },
   {
    "duration": 47,
    "start_time": "2023-03-02T15:32:56.670Z"
   },
   {
    "duration": 40,
    "start_time": "2023-03-02T15:33:14.936Z"
   },
   {
    "duration": 9,
    "start_time": "2023-03-02T15:39:43.511Z"
   },
   {
    "duration": 78,
    "start_time": "2023-03-02T15:40:01.479Z"
   },
   {
    "duration": 8,
    "start_time": "2023-03-02T15:40:04.475Z"
   },
   {
    "duration": 98,
    "start_time": "2023-03-02T15:40:30.039Z"
   },
   {
    "duration": 35,
    "start_time": "2023-03-02T15:45:32.874Z"
   },
   {
    "duration": 33,
    "start_time": "2023-03-02T15:45:46.727Z"
   },
   {
    "duration": 25,
    "start_time": "2023-03-02T16:13:15.712Z"
   },
   {
    "duration": 26,
    "start_time": "2023-03-02T16:13:40.862Z"
   },
   {
    "duration": 1046,
    "start_time": "2023-03-02T16:14:03.993Z"
   },
   {
    "duration": 23,
    "start_time": "2023-03-02T16:14:21.082Z"
   },
   {
    "duration": 71,
    "start_time": "2023-03-02T16:17:43.038Z"
   },
   {
    "duration": 17,
    "start_time": "2023-03-02T16:17:50.574Z"
   },
   {
    "duration": 22,
    "start_time": "2023-03-02T16:31:21.424Z"
   },
   {
    "duration": 23,
    "start_time": "2023-03-02T16:33:21.272Z"
   },
   {
    "duration": 29,
    "start_time": "2023-03-02T16:33:47.063Z"
   },
   {
    "duration": 23,
    "start_time": "2023-03-02T16:33:53.739Z"
   },
   {
    "duration": 42,
    "start_time": "2023-03-02T16:43:39.457Z"
   },
   {
    "duration": 75,
    "start_time": "2023-03-02T16:53:34.534Z"
   },
   {
    "duration": 43,
    "start_time": "2023-03-02T16:53:39.088Z"
   },
   {
    "duration": 51,
    "start_time": "2023-03-02T16:53:50.796Z"
   },
   {
    "duration": 24,
    "start_time": "2023-03-02T16:54:11.928Z"
   },
   {
    "duration": 22,
    "start_time": "2023-03-02T16:54:29.236Z"
   },
   {
    "duration": 23,
    "start_time": "2023-03-02T16:54:37.953Z"
   },
   {
    "duration": 42,
    "start_time": "2023-03-02T16:54:57.164Z"
   },
   {
    "duration": 41,
    "start_time": "2023-03-02T16:55:34.799Z"
   },
   {
    "duration": 42,
    "start_time": "2023-03-02T16:56:49.961Z"
   },
   {
    "duration": 43,
    "start_time": "2023-03-02T16:57:01.601Z"
   },
   {
    "duration": 39,
    "start_time": "2023-03-02T16:57:06.881Z"
   },
   {
    "duration": 42,
    "start_time": "2023-03-02T16:57:14.961Z"
   },
   {
    "duration": 38,
    "start_time": "2023-03-02T17:02:52.014Z"
   },
   {
    "duration": 47,
    "start_time": "2023-03-02T17:08:30.489Z"
   },
   {
    "duration": 5,
    "start_time": "2023-03-02T17:09:07.476Z"
   },
   {
    "duration": 6,
    "start_time": "2023-03-02T17:09:15.914Z"
   },
   {
    "duration": 20,
    "start_time": "2023-03-02T17:10:42.638Z"
   },
   {
    "duration": 39,
    "start_time": "2023-03-02T17:11:01.481Z"
   },
   {
    "duration": 26,
    "start_time": "2023-03-02T17:11:22.520Z"
   },
   {
    "duration": 42,
    "start_time": "2023-03-02T17:11:46.431Z"
   },
   {
    "duration": 37,
    "start_time": "2023-03-02T17:11:51.541Z"
   },
   {
    "duration": 82,
    "start_time": "2023-03-02T17:12:06.734Z"
   },
   {
    "duration": 16,
    "start_time": "2023-03-02T17:12:06.818Z"
   },
   {
    "duration": 16,
    "start_time": "2023-03-02T17:12:06.838Z"
   },
   {
    "duration": 21,
    "start_time": "2023-03-02T17:12:06.856Z"
   },
   {
    "duration": 37,
    "start_time": "2023-03-02T17:12:06.879Z"
   },
   {
    "duration": 4,
    "start_time": "2023-03-02T17:12:06.917Z"
   },
   {
    "duration": 20,
    "start_time": "2023-03-02T17:12:06.923Z"
   },
   {
    "duration": 11,
    "start_time": "2023-03-02T17:12:06.944Z"
   },
   {
    "duration": 15,
    "start_time": "2023-03-02T17:12:06.957Z"
   },
   {
    "duration": 16,
    "start_time": "2023-03-02T17:12:06.975Z"
   },
   {
    "duration": 40,
    "start_time": "2023-03-02T17:12:06.992Z"
   },
   {
    "duration": 11,
    "start_time": "2023-03-02T17:12:07.034Z"
   },
   {
    "duration": 3,
    "start_time": "2023-03-02T17:12:07.047Z"
   },
   {
    "duration": 14,
    "start_time": "2023-03-02T17:12:07.052Z"
   },
   {
    "duration": 21,
    "start_time": "2023-03-02T17:12:07.068Z"
   },
   {
    "duration": 17,
    "start_time": "2023-03-02T17:12:07.091Z"
   },
   {
    "duration": 28,
    "start_time": "2023-03-02T17:12:07.110Z"
   },
   {
    "duration": 12,
    "start_time": "2023-03-02T17:12:07.139Z"
   },
   {
    "duration": 9,
    "start_time": "2023-03-02T17:12:07.153Z"
   },
   {
    "duration": 5,
    "start_time": "2023-03-02T17:12:07.164Z"
   },
   {
    "duration": 11,
    "start_time": "2023-03-02T17:12:07.170Z"
   },
   {
    "duration": 4,
    "start_time": "2023-03-02T17:12:07.182Z"
   },
   {
    "duration": 58,
    "start_time": "2023-03-02T17:12:07.188Z"
   },
   {
    "duration": 43,
    "start_time": "2023-03-02T17:12:07.248Z"
   },
   {
    "duration": 59,
    "start_time": "2023-03-02T17:12:07.293Z"
   },
   {
    "duration": 51,
    "start_time": "2023-03-02T17:12:07.355Z"
   },
   {
    "duration": 33,
    "start_time": "2023-03-02T17:12:12.994Z"
   },
   {
    "duration": 22,
    "start_time": "2023-03-02T17:12:22.976Z"
   },
   {
    "duration": 19,
    "start_time": "2023-03-02T17:13:17.542Z"
   },
   {
    "duration": 38,
    "start_time": "2023-03-02T17:13:23.317Z"
   },
   {
    "duration": 33,
    "start_time": "2023-03-02T17:13:47.836Z"
   },
   {
    "duration": 9,
    "start_time": "2023-03-02T17:15:00.783Z"
   },
   {
    "duration": 10,
    "start_time": "2023-03-02T17:20:57.900Z"
   },
   {
    "duration": 12,
    "start_time": "2023-03-02T17:21:03.025Z"
   },
   {
    "duration": 13,
    "start_time": "2023-03-02T17:22:11.815Z"
   },
   {
    "duration": 27,
    "start_time": "2023-03-02T17:22:19.692Z"
   },
   {
    "duration": 49,
    "start_time": "2023-03-02T17:23:19.488Z"
   },
   {
    "duration": 5,
    "start_time": "2023-03-02T17:40:30.651Z"
   },
   {
    "duration": 23,
    "start_time": "2023-03-02T17:40:33.420Z"
   },
   {
    "duration": 46,
    "start_time": "2023-03-02T17:40:46.966Z"
   },
   {
    "duration": 43,
    "start_time": "2023-03-02T17:40:57.240Z"
   },
   {
    "duration": 53,
    "start_time": "2023-03-02T17:41:11.427Z"
   },
   {
    "duration": 584,
    "start_time": "2023-03-02T19:52:18.675Z"
   },
   {
    "duration": 31,
    "start_time": "2023-03-02T19:52:19.264Z"
   },
   {
    "duration": 15,
    "start_time": "2023-03-02T19:52:19.296Z"
   },
   {
    "duration": 11,
    "start_time": "2023-03-02T19:52:19.313Z"
   },
   {
    "duration": 57,
    "start_time": "2023-03-02T19:52:19.325Z"
   },
   {
    "duration": 4,
    "start_time": "2023-03-02T19:52:19.384Z"
   },
   {
    "duration": 8,
    "start_time": "2023-03-02T19:52:19.390Z"
   },
   {
    "duration": 4,
    "start_time": "2023-03-02T19:52:19.400Z"
   },
   {
    "duration": 8,
    "start_time": "2023-03-02T19:52:19.405Z"
   },
   {
    "duration": 5,
    "start_time": "2023-03-02T19:52:19.415Z"
   },
   {
    "duration": 53,
    "start_time": "2023-03-02T19:52:19.442Z"
   },
   {
    "duration": 11,
    "start_time": "2023-03-02T19:52:19.497Z"
   },
   {
    "duration": 15,
    "start_time": "2023-03-02T19:52:19.510Z"
   },
   {
    "duration": 36,
    "start_time": "2023-03-02T19:52:19.527Z"
   },
   {
    "duration": 24,
    "start_time": "2023-03-02T19:52:19.568Z"
   },
   {
    "duration": 18,
    "start_time": "2023-03-02T19:52:19.594Z"
   },
   {
    "duration": 5,
    "start_time": "2023-03-02T19:52:19.613Z"
   },
   {
    "duration": 28,
    "start_time": "2023-03-02T19:52:19.620Z"
   },
   {
    "duration": 20,
    "start_time": "2023-03-02T19:52:19.652Z"
   },
   {
    "duration": 7,
    "start_time": "2023-03-02T19:52:19.677Z"
   },
   {
    "duration": 25,
    "start_time": "2023-03-02T19:52:19.686Z"
   },
   {
    "duration": 14,
    "start_time": "2023-03-02T19:52:19.713Z"
   },
   {
    "duration": 50,
    "start_time": "2023-03-02T19:52:19.729Z"
   },
   {
    "duration": 58,
    "start_time": "2023-03-02T19:52:19.781Z"
   },
   {
    "duration": 55,
    "start_time": "2023-03-02T19:52:19.841Z"
   },
   {
    "duration": 64,
    "start_time": "2023-03-02T19:52:19.898Z"
   },
   {
    "duration": 1014,
    "start_time": "2023-03-07T06:13:11.500Z"
   },
   {
    "duration": 34,
    "start_time": "2023-03-07T06:13:12.517Z"
   },
   {
    "duration": 27,
    "start_time": "2023-03-07T06:13:12.553Z"
   },
   {
    "duration": 12,
    "start_time": "2023-03-07T06:13:12.583Z"
   },
   {
    "duration": 48,
    "start_time": "2023-03-07T06:13:12.598Z"
   },
   {
    "duration": 31,
    "start_time": "2023-03-07T06:13:12.648Z"
   },
   {
    "duration": 10,
    "start_time": "2023-03-07T06:13:12.681Z"
   },
   {
    "duration": 4,
    "start_time": "2023-03-07T06:13:12.693Z"
   },
   {
    "duration": 9,
    "start_time": "2023-03-07T06:13:12.698Z"
   },
   {
    "duration": 6,
    "start_time": "2023-03-07T06:13:12.709Z"
   },
   {
    "duration": 73,
    "start_time": "2023-03-07T06:13:12.716Z"
   },
   {
    "duration": 10,
    "start_time": "2023-03-07T06:13:12.790Z"
   },
   {
    "duration": 5,
    "start_time": "2023-03-07T06:13:12.802Z"
   },
   {
    "duration": 15,
    "start_time": "2023-03-07T06:13:12.808Z"
   },
   {
    "duration": 21,
    "start_time": "2023-03-07T06:13:12.825Z"
   },
   {
    "duration": 18,
    "start_time": "2023-03-07T06:13:12.877Z"
   },
   {
    "duration": 4,
    "start_time": "2023-03-07T06:13:12.896Z"
   },
   {
    "duration": 13,
    "start_time": "2023-03-07T06:13:12.902Z"
   },
   {
    "duration": 6,
    "start_time": "2023-03-07T06:13:12.916Z"
   },
   {
    "duration": 4,
    "start_time": "2023-03-07T06:13:12.923Z"
   },
   {
    "duration": 55,
    "start_time": "2023-03-07T06:13:12.928Z"
   },
   {
    "duration": 21,
    "start_time": "2023-03-07T06:13:16.140Z"
   },
   {
    "duration": 45,
    "start_time": "2023-03-07T06:18:08.275Z"
   },
   {
    "duration": 60,
    "start_time": "2023-03-07T06:18:13.889Z"
   },
   {
    "duration": 31,
    "start_time": "2023-03-07T06:19:15.744Z"
   },
   {
    "duration": 16,
    "start_time": "2023-03-07T06:20:09.592Z"
   },
   {
    "duration": 18,
    "start_time": "2023-03-07T06:20:28.062Z"
   },
   {
    "duration": 19,
    "start_time": "2023-03-07T06:22:06.506Z"
   },
   {
    "duration": 16,
    "start_time": "2023-03-07T06:23:41.312Z"
   },
   {
    "duration": 21,
    "start_time": "2023-03-07T06:23:50.116Z"
   },
   {
    "duration": 24,
    "start_time": "2023-03-07T06:25:12.327Z"
   },
   {
    "duration": 80,
    "start_time": "2023-03-07T06:25:49.878Z"
   },
   {
    "duration": 21,
    "start_time": "2023-03-07T06:25:56.674Z"
   },
   {
    "duration": 17,
    "start_time": "2023-03-07T06:27:58.227Z"
   },
   {
    "duration": 23,
    "start_time": "2023-03-07T06:28:07.159Z"
   },
   {
    "duration": 24,
    "start_time": "2023-03-07T06:30:27.286Z"
   },
   {
    "duration": 22,
    "start_time": "2023-03-07T06:30:32.270Z"
   },
   {
    "duration": 110,
    "start_time": "2023-03-07T06:31:25.367Z"
   },
   {
    "duration": 84,
    "start_time": "2023-03-07T06:31:40.790Z"
   },
   {
    "duration": 85,
    "start_time": "2023-03-07T06:31:49.968Z"
   },
   {
    "duration": 24,
    "start_time": "2023-03-07T06:32:08.707Z"
   },
   {
    "duration": 77,
    "start_time": "2023-03-07T06:32:20.673Z"
   },
   {
    "duration": 23,
    "start_time": "2023-03-07T06:32:25.009Z"
   },
   {
    "duration": 21,
    "start_time": "2023-03-07T06:33:32.962Z"
   },
   {
    "duration": 17,
    "start_time": "2023-03-07T06:35:00.400Z"
   },
   {
    "duration": 24,
    "start_time": "2023-03-07T06:35:10.634Z"
   },
   {
    "duration": 20,
    "start_time": "2023-03-07T06:39:55.029Z"
   },
   {
    "duration": 109,
    "start_time": "2023-03-07T06:40:45.109Z"
   },
   {
    "duration": 21,
    "start_time": "2023-03-07T06:40:58.317Z"
   },
   {
    "duration": 31,
    "start_time": "2023-03-07T06:42:59.417Z"
   },
   {
    "duration": 29,
    "start_time": "2023-03-07T06:43:14.434Z"
   },
   {
    "duration": 27,
    "start_time": "2023-03-07T06:48:59.869Z"
   },
   {
    "duration": 45,
    "start_time": "2023-03-07T06:49:05.603Z"
   },
   {
    "duration": 40,
    "start_time": "2023-03-07T06:49:31.886Z"
   },
   {
    "duration": 31,
    "start_time": "2023-03-07T06:49:48.249Z"
   },
   {
    "duration": 37,
    "start_time": "2023-03-07T06:50:07.364Z"
   },
   {
    "duration": 31,
    "start_time": "2023-03-07T06:50:28.601Z"
   },
   {
    "duration": 33,
    "start_time": "2023-03-07T06:50:49.477Z"
   },
   {
    "duration": 102,
    "start_time": "2023-03-07T06:51:19.426Z"
   },
   {
    "duration": 28,
    "start_time": "2023-03-07T06:51:24.177Z"
   },
   {
    "duration": 76,
    "start_time": "2023-03-07T06:56:40.143Z"
   },
   {
    "duration": 14,
    "start_time": "2023-03-07T06:57:46.781Z"
   },
   {
    "duration": 85,
    "start_time": "2023-03-07T07:01:41.792Z"
   },
   {
    "duration": 16,
    "start_time": "2023-03-07T07:01:50.135Z"
   },
   {
    "duration": 19,
    "start_time": "2023-03-07T07:01:59.125Z"
   },
   {
    "duration": 2049,
    "start_time": "2023-03-07T07:03:50.534Z"
   },
   {
    "duration": 1258,
    "start_time": "2023-03-07T07:04:49.030Z"
   },
   {
    "duration": 34,
    "start_time": "2023-03-07T07:05:27.222Z"
   },
   {
    "duration": 1766,
    "start_time": "2023-03-07T07:05:36.465Z"
   },
   {
    "duration": 14,
    "start_time": "2023-03-07T07:05:51.682Z"
   },
   {
    "duration": 2884,
    "start_time": "2023-03-07T07:06:11.187Z"
   },
   {
    "duration": 1523,
    "start_time": "2023-03-07T07:07:15.462Z"
   },
   {
    "duration": 14,
    "start_time": "2023-03-07T07:07:35.370Z"
   },
   {
    "duration": 22,
    "start_time": "2023-03-07T07:07:41.143Z"
   },
   {
    "duration": 18,
    "start_time": "2023-03-07T07:07:49.852Z"
   },
   {
    "duration": 23,
    "start_time": "2023-03-07T07:08:37.964Z"
   },
   {
    "duration": 76,
    "start_time": "2023-03-07T07:09:40.711Z"
   },
   {
    "duration": 26,
    "start_time": "2023-03-07T07:09:44.020Z"
   },
   {
    "duration": 2887,
    "start_time": "2023-03-07T07:09:57.626Z"
   },
   {
    "duration": 25,
    "start_time": "2023-03-07T07:10:07.258Z"
   },
   {
    "duration": 33,
    "start_time": "2023-03-07T07:10:12.544Z"
   },
   {
    "duration": 29,
    "start_time": "2023-03-07T07:10:30.150Z"
   },
   {
    "duration": 21,
    "start_time": "2023-03-07T07:11:28.952Z"
   },
   {
    "duration": 26,
    "start_time": "2023-03-07T07:11:35.995Z"
   },
   {
    "duration": 135,
    "start_time": "2023-03-07T07:13:53.809Z"
   },
   {
    "duration": 2073,
    "start_time": "2023-03-07T07:14:04.175Z"
   },
   {
    "duration": 18,
    "start_time": "2023-03-07T07:14:43.761Z"
   },
   {
    "duration": 110,
    "start_time": "2023-03-07T07:14:51.917Z"
   },
   {
    "duration": 20,
    "start_time": "2023-03-07T07:15:06.959Z"
   },
   {
    "duration": 19,
    "start_time": "2023-03-07T07:16:47.423Z"
   },
   {
    "duration": 22,
    "start_time": "2023-03-07T07:17:37.710Z"
   },
   {
    "duration": 19,
    "start_time": "2023-03-07T07:17:44.729Z"
   },
   {
    "duration": 21,
    "start_time": "2023-03-07T07:18:21.361Z"
   },
   {
    "duration": 26,
    "start_time": "2023-03-07T07:18:34.126Z"
   },
   {
    "duration": 21,
    "start_time": "2023-03-07T07:18:38.098Z"
   },
   {
    "duration": 21,
    "start_time": "2023-03-07T07:18:44.579Z"
   },
   {
    "duration": 9,
    "start_time": "2023-03-07T07:20:08.220Z"
   },
   {
    "duration": 12,
    "start_time": "2023-03-07T07:20:12.331Z"
   },
   {
    "duration": 23,
    "start_time": "2023-03-07T07:21:33.108Z"
   },
   {
    "duration": 93,
    "start_time": "2023-03-07T07:32:43.511Z"
   },
   {
    "duration": 13,
    "start_time": "2023-03-07T07:34:07.929Z"
   },
   {
    "duration": 35,
    "start_time": "2023-03-07T07:35:13.294Z"
   },
   {
    "duration": 21,
    "start_time": "2023-03-07T07:36:58.154Z"
   },
   {
    "duration": 19,
    "start_time": "2023-03-07T07:37:14.201Z"
   },
   {
    "duration": 40,
    "start_time": "2023-03-07T07:38:23.496Z"
   },
   {
    "duration": 19,
    "start_time": "2023-03-07T07:38:34.485Z"
   },
   {
    "duration": 24,
    "start_time": "2023-03-07T07:38:44.353Z"
   },
   {
    "duration": 22,
    "start_time": "2023-03-07T07:39:57.387Z"
   },
   {
    "duration": 369,
    "start_time": "2023-03-07T07:47:03.986Z"
   },
   {
    "duration": 22,
    "start_time": "2023-03-07T07:47:10.139Z"
   },
   {
    "duration": 25,
    "start_time": "2023-03-07T07:47:14.954Z"
   },
   {
    "duration": 44,
    "start_time": "2023-03-07T07:47:49.832Z"
   },
   {
    "duration": 53,
    "start_time": "2023-03-07T07:48:13.547Z"
   },
   {
    "duration": 56,
    "start_time": "2023-03-07T07:48:29.648Z"
   },
   {
    "duration": 11,
    "start_time": "2023-03-07T07:50:01.953Z"
   },
   {
    "duration": 64,
    "start_time": "2023-03-07T07:50:07.074Z"
   },
   {
    "duration": 9329,
    "start_time": "2023-03-07T07:50:22.624Z"
   },
   {
    "duration": 24,
    "start_time": "2023-03-07T07:50:56.448Z"
   },
   {
    "duration": 15,
    "start_time": "2023-03-07T07:51:24.517Z"
   },
   {
    "duration": 106,
    "start_time": "2023-03-07T07:51:43.673Z"
   },
   {
    "duration": 22,
    "start_time": "2023-03-07T07:51:50.430Z"
   },
   {
    "duration": 37,
    "start_time": "2023-03-07T07:52:27.982Z"
   },
   {
    "duration": 71,
    "start_time": "2023-03-07T07:52:40.684Z"
   },
   {
    "duration": 80,
    "start_time": "2023-03-07T07:52:42.937Z"
   },
   {
    "duration": 31,
    "start_time": "2023-03-07T07:52:45.895Z"
   },
   {
    "duration": 17,
    "start_time": "2023-03-07T07:59:15.374Z"
   },
   {
    "duration": 3,
    "start_time": "2023-03-07T08:00:24.336Z"
   },
   {
    "duration": 4,
    "start_time": "2023-03-07T08:00:48.480Z"
   },
   {
    "duration": 5,
    "start_time": "2023-03-07T08:00:53.328Z"
   },
   {
    "duration": 72,
    "start_time": "2023-03-07T08:32:43.410Z"
   },
   {
    "duration": 563,
    "start_time": "2023-03-07T11:43:30.519Z"
   },
   {
    "duration": 23,
    "start_time": "2023-03-07T11:43:31.084Z"
   },
   {
    "duration": 58,
    "start_time": "2023-03-07T11:43:31.109Z"
   },
   {
    "duration": 35,
    "start_time": "2023-03-07T11:43:31.169Z"
   },
   {
    "duration": 59,
    "start_time": "2023-03-07T11:43:31.205Z"
   },
   {
    "duration": 4,
    "start_time": "2023-03-07T11:43:31.266Z"
   },
   {
    "duration": 36,
    "start_time": "2023-03-07T11:43:31.272Z"
   },
   {
    "duration": 24,
    "start_time": "2023-03-07T11:43:31.310Z"
   },
   {
    "duration": 37,
    "start_time": "2023-03-07T11:43:31.336Z"
   },
   {
    "duration": 16,
    "start_time": "2023-03-07T11:43:31.376Z"
   },
   {
    "duration": 59,
    "start_time": "2023-03-07T11:43:31.393Z"
   },
   {
    "duration": 9,
    "start_time": "2023-03-07T11:43:31.454Z"
   },
   {
    "duration": 26,
    "start_time": "2023-03-07T11:43:31.465Z"
   },
   {
    "duration": 40,
    "start_time": "2023-03-07T11:43:31.493Z"
   },
   {
    "duration": 27,
    "start_time": "2023-03-07T11:43:31.535Z"
   },
   {
    "duration": 18,
    "start_time": "2023-03-07T11:43:31.563Z"
   },
   {
    "duration": 4,
    "start_time": "2023-03-07T11:43:31.583Z"
   },
   {
    "duration": 39,
    "start_time": "2023-03-07T11:43:31.588Z"
   },
   {
    "duration": 18,
    "start_time": "2023-03-07T11:43:31.629Z"
   },
   {
    "duration": 29,
    "start_time": "2023-03-07T11:43:31.649Z"
   },
   {
    "duration": 16,
    "start_time": "2023-03-07T11:43:31.680Z"
   },
   {
    "duration": 40,
    "start_time": "2023-03-07T11:43:31.698Z"
   },
   {
    "duration": 23,
    "start_time": "2023-03-07T11:43:31.739Z"
   },
   {
    "duration": 20,
    "start_time": "2023-03-07T11:43:31.764Z"
   },
   {
    "duration": 45,
    "start_time": "2023-03-07T11:43:31.786Z"
   },
   {
    "duration": 101,
    "start_time": "2023-03-07T13:16:44.319Z"
   },
   {
    "duration": 95,
    "start_time": "2023-03-07T13:19:12.052Z"
   },
   {
    "duration": 62,
    "start_time": "2023-03-07T13:27:24.691Z"
   },
   {
    "duration": 748,
    "start_time": "2023-03-07T13:27:30.434Z"
   },
   {
    "duration": 32,
    "start_time": "2023-03-07T13:27:31.186Z"
   },
   {
    "duration": 44,
    "start_time": "2023-03-07T13:27:31.221Z"
   },
   {
    "duration": 49,
    "start_time": "2023-03-07T13:27:31.268Z"
   },
   {
    "duration": 93,
    "start_time": "2023-03-07T13:27:31.319Z"
   },
   {
    "duration": 24,
    "start_time": "2023-03-07T13:27:31.414Z"
   },
   {
    "duration": 32,
    "start_time": "2023-03-07T13:27:31.441Z"
   },
   {
    "duration": 20,
    "start_time": "2023-03-07T13:27:31.476Z"
   },
   {
    "duration": 39,
    "start_time": "2023-03-07T13:27:31.499Z"
   },
   {
    "duration": 5,
    "start_time": "2023-03-07T13:27:31.542Z"
   },
   {
    "duration": 65,
    "start_time": "2023-03-07T13:27:31.549Z"
   },
   {
    "duration": 22,
    "start_time": "2023-03-07T13:27:31.615Z"
   },
   {
    "duration": 19,
    "start_time": "2023-03-07T13:27:31.639Z"
   },
   {
    "duration": 38,
    "start_time": "2023-03-07T13:27:31.659Z"
   },
   {
    "duration": 84,
    "start_time": "2023-03-07T13:27:31.699Z"
   },
   {
    "duration": 20,
    "start_time": "2023-03-07T13:27:31.785Z"
   },
   {
    "duration": 30,
    "start_time": "2023-03-07T13:27:31.807Z"
   },
   {
    "duration": 79,
    "start_time": "2023-03-07T13:27:31.838Z"
   },
   {
    "duration": 68,
    "start_time": "2023-03-07T13:27:31.919Z"
   },
   {
    "duration": 55,
    "start_time": "2023-03-07T13:27:31.988Z"
   },
   {
    "duration": 17,
    "start_time": "2023-03-07T13:27:32.047Z"
   },
   {
    "duration": 37,
    "start_time": "2023-03-07T13:27:32.066Z"
   },
   {
    "duration": 24,
    "start_time": "2023-03-07T13:27:32.830Z"
   },
   {
    "duration": 394,
    "start_time": "2023-03-07T13:36:39.035Z"
   },
   {
    "duration": 2204,
    "start_time": "2023-03-07T13:37:29.779Z"
   },
   {
    "duration": 34,
    "start_time": "2023-03-07T13:40:02.331Z"
   },
   {
    "duration": 118,
    "start_time": "2023-03-07T13:40:17.658Z"
   },
   {
    "duration": 26,
    "start_time": "2023-03-07T13:40:21.866Z"
   },
   {
    "duration": 34,
    "start_time": "2023-03-07T13:42:05.783Z"
   },
   {
    "duration": 22,
    "start_time": "2023-03-07T13:42:12.641Z"
   },
   {
    "duration": 42,
    "start_time": "2023-03-07T13:43:43.893Z"
   },
   {
    "duration": 31,
    "start_time": "2023-03-07T13:44:20.007Z"
   },
   {
    "duration": 28,
    "start_time": "2023-03-07T13:44:50.667Z"
   },
   {
    "duration": 26,
    "start_time": "2023-03-07T13:46:47.229Z"
   },
   {
    "duration": 31,
    "start_time": "2023-03-07T13:49:30.532Z"
   },
   {
    "duration": 47,
    "start_time": "2023-03-07T13:49:46.889Z"
   },
   {
    "duration": 28,
    "start_time": "2023-03-07T14:03:58.157Z"
   },
   {
    "duration": 237,
    "start_time": "2023-03-07T14:08:04.994Z"
   },
   {
    "duration": 42,
    "start_time": "2023-03-07T14:11:24.755Z"
   },
   {
    "duration": 594,
    "start_time": "2023-03-22T13:43:43.929Z"
   },
   {
    "duration": 36,
    "start_time": "2023-03-22T13:43:44.525Z"
   },
   {
    "duration": 19,
    "start_time": "2023-03-22T13:43:44.563Z"
   },
   {
    "duration": 12,
    "start_time": "2023-03-22T13:43:44.584Z"
   },
   {
    "duration": 68,
    "start_time": "2023-03-22T13:43:44.597Z"
   },
   {
    "duration": 4,
    "start_time": "2023-03-22T13:43:44.667Z"
   },
   {
    "duration": 16,
    "start_time": "2023-03-22T13:43:44.673Z"
   },
   {
    "duration": 4,
    "start_time": "2023-03-22T13:43:44.691Z"
   },
   {
    "duration": 10,
    "start_time": "2023-03-22T13:43:44.697Z"
   },
   {
    "duration": 4,
    "start_time": "2023-03-22T13:43:44.709Z"
   },
   {
    "duration": 41,
    "start_time": "2023-03-22T13:43:46.816Z"
   },
   {
    "duration": 5,
    "start_time": "2023-03-22T13:44:23.826Z"
   }
  ],
  "colab": {
   "name": "dpp_template_part2.ipynb",
   "provenance": []
  },
  "kernelspec": {
   "display_name": "Python 3 (ipykernel)",
   "language": "python",
   "name": "python3"
  },
  "language_info": {
   "codemirror_mode": {
    "name": "ipython",
    "version": 3
   },
   "file_extension": ".py",
   "mimetype": "text/x-python",
   "name": "python",
   "nbconvert_exporter": "python",
   "pygments_lexer": "ipython3",
   "version": "3.11.6"
  },
  "toc": {
   "base_numbering": 1,
   "nav_menu": {},
   "number_sections": true,
   "sideBar": false,
   "skip_h1_title": true,
   "title_cell": "Table of Contents",
   "title_sidebar": "Contents",
   "toc_cell": false,
   "toc_position": {
    "height": "603px",
    "left": "1152px",
    "top": "56px",
    "width": "288px"
   },
   "toc_section_display": true,
   "toc_window_display": false
  },
  "varInspector": {
   "cols": {
    "lenName": 16,
    "lenType": 16,
    "lenVar": 40
   },
   "kernels_config": {
    "python": {
     "delete_cmd_postfix": "",
     "delete_cmd_prefix": "del ",
     "library": "var_list.py",
     "varRefreshCmd": "print(var_dic_list())"
    },
    "r": {
     "delete_cmd_postfix": ") ",
     "delete_cmd_prefix": "rm(",
     "library": "var_list.r",
     "varRefreshCmd": "cat(var_dic_list()) "
    }
   },
   "types_to_exclude": [
    "module",
    "function",
    "builtin_function_or_method",
    "instance",
    "_Feature"
   ],
   "window_display": false
  }
 },
 "nbformat": 4,
 "nbformat_minor": 5
}
